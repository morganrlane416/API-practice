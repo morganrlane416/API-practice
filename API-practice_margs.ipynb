{
 "cells": [
  {
   "cell_type": "code",
   "execution_count": 1,
   "metadata": {},
   "outputs": [
    {
     "name": "stdout",
     "output_type": "stream",
     "text": [
      "success!\n",
      "There are 6 different margarita options to choose from.\n",
      "Margarita\n",
      "Blue Margarita\n",
      "Tommy's Margarita\n",
      "Whitecap Margarita\n",
      "Strawberry Margarita\n",
      "Smashed Watermelon Margarita\n"
     ]
    }
   ],
   "source": [
    "import requests\n",
    "import pandas as pd\n",
    "\n",
    "def get_margs(api_url):\n",
    "    response = requests.get(api_url)\n",
    "\n",
    "    # Check if the request was successful\n",
    "    if response.status_code == 200:\n",
    "        data = response.json()\n",
    "        print('success!')\n",
    "    else:\n",
    "        print(f\"Error: {response.status_code}\")\n",
    "    df = pd.DataFrame(data)\n",
    "    return df\n",
    "    \n",
    "\n",
    "api_url = \"https://www.thecocktaildb.com/api/json/v1/1/search.php?s=margarita\"\n",
    "\n",
    "#Testing mechanisms, do not modify! \n",
    "\n",
    "margs_df = get_margs(api_url)\n",
    "margs_df = margs_df.dropna()\n",
    "diff_margs = 0\n",
    "for i in margs_df['drinks']:\n",
    "    diff_margs += 1\n",
    "print(f'There are', diff_margs, \"different margarita options to choose from.\")\n",
    "\n",
    "for i in margs_df['drinks']:\n",
    "    print (i['strDrink'])"
   ]
  },
  {
   "cell_type": "code",
   "execution_count": 2,
   "metadata": {},
   "outputs": [
    {
     "name": "stdout",
     "output_type": "stream",
     "text": [
      "What margarita would you like to make?\n",
      "You will need the following ingredients: \n",
      "Tequila\n",
      "Blue Curacao\n",
      "Lime juice\n",
      "Salt\n"
     ]
    }
   ],
   "source": [
    "def get_recipe (marg_name):\n",
    "    num_ingred = 0\n",
    "    print ('You will need the following ingredients: ')\n",
    "    for i in margs_df['drinks']:\n",
    "        if i['strDrink'] == marg_name:\n",
    "            for m in range (1,16):\n",
    "                if i[f'strIngredient{m}'] != None:\n",
    "                    print (i[f'strIngredient{m}'])\n",
    "                    num_ingred +=1\n",
    "\n",
    "print ('What margarita would you like to make?')\n",
    "drink = input()\n",
    "\n",
    "get_recipe (drink)"
   ]
  },
  {
   "cell_type": "code",
   "execution_count": 3,
   "metadata": {},
   "outputs": [
    {
     "name": "stdout",
     "output_type": "stream",
     "text": [
      "                          Drink  Number of Ingredients\n",
      "0                     Margarita                      4\n",
      "1                Blue Margarita                      4\n",
      "2             Tommy's Margarita                      3\n",
      "3            Whitecap Margarita                      4\n",
      "4          Strawberry Margarita                      6\n",
      "5  Smashed Watermelon Margarita                      7\n"
     ]
    }
   ],
   "source": [
    "num_ingred = []\n",
    "name_ingred = []\n",
    "for i in margs_df['drinks']:\n",
    "    ingred = 0\n",
    "    for m in range (1,16):\n",
    "        if i[f'strIngredient{m}'] != None:\n",
    "            ingred +=1\n",
    "    name_ingred.append(i['strDrink'])\n",
    "    num_ingred.append(ingred)\n",
    "#print(name_ingred)\n",
    "#print(num_ingred)\n",
    "data = {'Drink': name_ingred,'Number of Ingredients': num_ingred}\n",
    "df = pd.DataFrame(data)\n",
    "print(df)"
   ]
  },
  {
   "cell_type": "code",
   "execution_count": 4,
   "metadata": {},
   "outputs": [
    {
     "name": "stdout",
     "output_type": "stream",
     "text": [
      "There are 2 recipes that require more than 4 ingredients.\n",
      "Strawberry Margarita\n",
      "Smashed Watermelon Margarita\n"
     ]
    }
   ],
   "source": [
    "lots = 0\n",
    "for i in num_ingred:\n",
    "    if i > 4: \n",
    "        lots += 1\n",
    "print(f'There are', lots, 'recipes that require more than 4 ingredients.')\n",
    "#for i in df['Number of Ingredients']:\n",
    "    ##if i > 4:\n",
    "        #print(df.index[])\n",
    "        #print (df['Drink'][df.index[i]])\n",
    "index = df.index[df['Number of Ingredients']>4].tolist()\n",
    "for i in index:\n",
    "    print(df['Drink'][i])"
   ]
  }
 ],
 "metadata": {
  "kernelspec": {
   "display_name": "Python 3",
   "language": "python",
   "name": "python3"
  },
  "language_info": {
   "codemirror_mode": {
    "name": "ipython",
    "version": 3
   },
   "file_extension": ".py",
   "mimetype": "text/x-python",
   "name": "python",
   "nbconvert_exporter": "python",
   "pygments_lexer": "ipython3",
   "version": "3.13.2"
  }
 },
 "nbformat": 4,
 "nbformat_minor": 2
}
